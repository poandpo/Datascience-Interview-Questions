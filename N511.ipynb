{
  "nbformat": 4,
  "nbformat_minor": 0,
  "metadata": {
    "colab": {
      "name": "N511.ipynb",
      "provenance": [],
      "authorship_tag": "ABX9TyMelCogT6VBk84+Iv4BGfDu",
      "include_colab_link": true
    },
    "kernelspec": {
      "name": "python3",
      "display_name": "Python 3"
    },
    "language_info": {
      "name": "python"
    }
  },
  "cells": [
    {
      "cell_type": "markdown",
      "metadata": {
        "id": "view-in-github",
        "colab_type": "text"
      },
      "source": [
        "<a href=\"https://colab.research.google.com/github/poandpo/Datascience-Interview-Questions/blob/master/N511.ipynb\" target=\"_parent\"><img src=\"https://colab.research.google.com/assets/colab-badge.svg\" alt=\"Open In Colab\"/></a>"
      ]
    },
    {
      "cell_type": "markdown",
      "metadata": {
        "id": "sYWyEYbuQSXg"
      },
      "source": [
        "# 정규표현식"
      ]
    },
    {
      "cell_type": "markdown",
      "metadata": {
        "id": "c-FLNs7M6gZs"
      },
      "source": [
        "re.search 함수: 문자열의 처음부터 일치해야 하는것은 아니다\n",
        "\n",
        "re.match함수:  반드시 문자열의 처음부터 일치\n"
      ]
    },
    {
      "cell_type": "code",
      "metadata": {
        "colab": {
          "base_uri": "https://localhost:8080/"
        },
        "id": "ucV0FpWaNTkS",
        "outputId": "b5dd7770-5d2e-42b1-f2e2-4a8a9ffab4b0"
      },
      "source": [
        "#search(pattern, string, flags=0): string을 통해 스캔하여 정규식 pattern이 일치하는 첫 번째 위치를 찾고, 대응하는 일치 객체를 반환\n",
        "import re\n",
        "\n",
        "wordlist = [\"color\", \"colour\", \"work\", \"working\",\n",
        "            \"fox\", \"worker\", \"working\"]\n",
        "\n",
        "for word in wordlist:\n",
        "        if re.search('col.r', word) : # .은  정규표현식에서는 하나의 문자를 의미합니다 colour 나올려면? -->  'col..r'\n",
        "                                      # 'col.*r'하면 둘다 나옴 (* 문자 0개 이상이다)\n",
        "                print (word)"
      ],
      "execution_count": 1,
      "outputs": [
        {
          "output_type": "stream",
          "name": "stdout",
          "text": [
            "color\n"
          ]
        }
      ]
    },
    {
      "cell_type": "code",
      "metadata": {
        "colab": {
          "base_uri": "https://localhost:8080/"
        },
        "id": "1ugoc9MwNXJb",
        "outputId": "d98de6d1-7d42-4740-c275-e16c26047666"
      },
      "source": [
        "regular_expressions = '<html><head><title>Title</title>'\n",
        "print(len(regular_expressions))\n",
        "\n",
        "print(re.match('<.*>', regular_expressions).span()) # span: < >과 일치된 문자열의 (시작위치, 끝위치)에 해당하는 튜플을 돌려준다.\n",
        "\n",
        "print(re.match('<.*>', regular_expressions).group()) #group: <  >과 일치된 문자열을 돌려준다."
      ],
      "execution_count": 2,
      "outputs": [
        {
          "output_type": "stream",
          "name": "stdout",
          "text": [
            "32\n",
            "(0, 32)\n",
            "<html><head><title>Title</title>\n"
          ]
        }
      ]
    },
    {
      "cell_type": "markdown",
      "metadata": {
        "id": "YF2fB76j5jE5"
      },
      "source": [
        "list[:3]는 3 전까지만 출력되는 것처럼 span도 그렇게 나온다는거군요!\n"
      ]
    },
    {
      "cell_type": "code",
      "metadata": {
        "colab": {
          "base_uri": "https://localhost:8080/"
        },
        "id": "jz0WubYv32rl",
        "outputId": "9da85de1-a50f-4d00-e346-201601a89002"
      },
      "source": [
        "import re\n",
        "regular_expressions = '<title>Title</title>aaaaa'\n",
        "print(len(regular_expressions))\n",
        "\n",
        "print(re.match('<.*>', regular_expressions).span()) # span: < >과 일치된 문자열의 (시작위치, 끝위치)에 해당하는 튜플을 돌려준다.\n",
        "\n",
        "print(re.match('<.*>', regular_expressions).group())"
      ],
      "execution_count": 43,
      "outputs": [
        {
          "output_type": "stream",
          "name": "stdout",
          "text": [
            "25\n",
            "(0, 20)\n",
            "<title>Title</title>\n"
          ]
        }
      ]
    },
    {
      "cell_type": "code",
      "metadata": {
        "id": "JV4A67T8NYQf"
      },
      "source": [
        "# case 1_1  컴파일\n",
        "phone = re.compile(r\"\"\"\n",
        "010-    # 핸드폰 앞자리 \n",
        "\\d{4}-  # 중간자리\n",
        "\\d{4}  # 뒷자리\n",
        "\"\"\", re.VERBOSE) # VERBOSE --> 덕분에 주석을 달아서 가독성있게 할 수 있음"
      ],
      "execution_count": 5,
      "outputs": []
    },
    {
      "cell_type": "code",
      "metadata": {
        "id": "ZnXsV4ufNZka"
      },
      "source": [
        "# case 1_2\n",
        "phone = re.compile(r\"010-\\d{4}-\\d{4}\")"
      ],
      "execution_count": 6,
      "outputs": []
    },
    {
      "cell_type": "code",
      "metadata": {
        "colab": {
          "base_uri": "https://localhost:8080/"
        },
        "id": "jcKyfcTiNas3",
        "outputId": "a5494010-47bc-46d9-d1c5-f54d1169518d"
      },
      "source": [
        "# case 1_3\n",
        "info = ['홍길동 010-1234-1234', '고길동 010-5678-5679']\n",
        "\n",
        "for text in info:\n",
        "    match_object = phone.search(text)\n",
        "    print(match_object.group())"
      ],
      "execution_count": 7,
      "outputs": [
        {
          "output_type": "stream",
          "name": "stdout",
          "text": [
            "010-1234-1234\n",
            "010-5678-5679\n"
          ]
        }
      ]
    },
    {
      "cell_type": "markdown",
      "metadata": {
        "id": "OpCH6zwqQVYt"
      },
      "source": [
        "# 다양한 메소드"
      ]
    },
    {
      "cell_type": "markdown",
      "metadata": {
        "id": "A2nCLozrRhFX"
      },
      "source": [
        "## rjuct\n",
        "rjust:오른쪽으로 정렬하도록 도와준다.  \n",
        "rjust를 통해 공백의 수, 공백을 메워줄 문자를 넣어준다."
      ]
    },
    {
      "cell_type": "code",
      "metadata": {
        "colab": {
          "base_uri": "https://localhost:8080/"
        },
        "id": "bIyKTZeBQU8J",
        "outputId": "077bd012-fe02-48eb-f460-bcd82d643f52"
      },
      "source": [
        "\n",
        "\n",
        "print(\"2\".rjust(3,\"0\"))\n",
        " \n",
        "#\"50000\"\n",
        "print(\"50000\".rjust(5,\"0\"))\n",
        " \n",
        "#\"00123\"\n",
        "print(\"123\".rjust(5,\"0\"))\n",
        " \n",
        "#\"aa123\"\n",
        "print(\"123\".rjust(5,\"a\"))"
      ],
      "execution_count": 8,
      "outputs": [
        {
          "output_type": "stream",
          "name": "stdout",
          "text": [
            "002\n",
            "50000\n",
            "00123\n",
            "aa123\n"
          ]
        }
      ]
    },
    {
      "cell_type": "markdown",
      "metadata": {
        "id": "FFgRaQrdQd-P"
      },
      "source": [
        "## zfill(width)\n",
        ":이는 0을 왼쪽에 채워주는 역할 "
      ]
    },
    {
      "cell_type": "code",
      "metadata": {
        "colab": {
          "base_uri": "https://localhost:8080/"
        },
        "id": "EmkMRG1WQZIE",
        "outputId": "fe575c23-04f1-4a5e-9c97-8d02580ef7f2"
      },
      "source": [
        "#\"002\"\n",
        "print(\"2\".zfill(3))\n",
        " \n",
        "#\"50000\"\n",
        "print(\"50000\".zfill(5))\n",
        " \n",
        "#\"00123\"\n",
        "print(\"123\".zfill(5))"
      ],
      "execution_count": 9,
      "outputs": [
        {
          "output_type": "stream",
          "name": "stdout",
          "text": [
            "002\n",
            "50000\n",
            "00123\n"
          ]
        }
      ]
    },
    {
      "cell_type": "markdown",
      "metadata": {
        "id": "wOkKdC8mQdtk"
      },
      "source": [
        "Split"
      ]
    },
    {
      "cell_type": "code",
      "metadata": {
        "colab": {
          "base_uri": "https://localhost:8080/"
        },
        "id": "NVOLDHVdQb5X",
        "outputId": "ee3d3dae-6fad-497e-e7fd-4050b2d4e6f2"
      },
      "source": [
        "string_ = \"Hello, I am Jack and I am a data scientist\"\n",
        "print(string_)\n",
        "print(string_[1])"
      ],
      "execution_count": 10,
      "outputs": [
        {
          "output_type": "stream",
          "name": "stdout",
          "text": [
            "Hello, I am Jack and I am a data scientist\n",
            "e\n"
          ]
        }
      ]
    },
    {
      "cell_type": "code",
      "metadata": {
        "colab": {
          "base_uri": "https://localhost:8080/"
        },
        "id": "S5a99E1PQc3q",
        "outputId": "29fe6ef5-4390-41df-abe9-894bfa526a21"
      },
      "source": [
        "string_list = string_.split(\" \")\n",
        "string_list"
      ],
      "execution_count": 11,
      "outputs": [
        {
          "output_type": "execute_result",
          "data": {
            "text/plain": [
              "['Hello,', 'I', 'am', 'Jack', 'and', 'I', 'am', 'a', 'data', 'scientist']"
            ]
          },
          "metadata": {},
          "execution_count": 11
        }
      ]
    },
    {
      "cell_type": "code",
      "metadata": {
        "colab": {
          "base_uri": "https://localhost:8080/"
        },
        "id": "WTUGiyEjQgTO",
        "outputId": "0b3bb770-86b2-481a-d2ab-31db432aed1e"
      },
      "source": [
        "string_.startswith('Hello') # 이 문자열 인스턴스의 시작 부분과 지정한 문자열이 일치하는지를 확인\n",
        "string_.endswith('scientist')\n",
        "string_.endswith('tist')\n",
        "\n",
        "print(string_.replace(\"Jack\", \"John\"))\n",
        "print(string_)"
      ],
      "execution_count": 12,
      "outputs": [
        {
          "output_type": "stream",
          "name": "stdout",
          "text": [
            "Hello, I am John and I am a data scientist\n",
            "Hello, I am Jack and I am a data scientist\n"
          ]
        }
      ]
    },
    {
      "cell_type": "markdown",
      "metadata": {
        "id": "fUXJ-ZN9QkzY"
      },
      "source": [
        "##얕은 복사(copy())"
      ]
    },
    {
      "cell_type": "code",
      "metadata": {
        "colab": {
          "base_uri": "https://localhost:8080/"
        },
        "id": "omV_rRrwQlNS",
        "outputId": "355a1210-2310-4a10-ceb1-18b9638adddd"
      },
      "source": [
        "fruits = {\"apple\", \"banana\", \"cherry\"}\n",
        "fruits_copy = fruits.copy()\n",
        "fruits_copy"
      ],
      "execution_count": 13,
      "outputs": [
        {
          "output_type": "execute_result",
          "data": {
            "text/plain": [
              "{'apple', 'banana', 'cherry'}"
            ]
          },
          "metadata": {},
          "execution_count": 13
        }
      ]
    },
    {
      "cell_type": "code",
      "metadata": {
        "id": "I8Fa7CIxQnPF"
      },
      "source": [
        "a = {'a': 5, 'b': 4, 'c': 8}\n",
        "b = a\n",
        "del b['a']\n",
        "print(b)\n",
        "print(a)"
      ],
      "execution_count": null,
      "outputs": []
    },
    {
      "cell_type": "code",
      "metadata": {
        "id": "d2Bzg7n0QofR"
      },
      "source": [
        "import copy\n",
        "a = {'a': 5, 'b': 4, 'c': 8}\n",
        "b = copy.copy(a)\n",
        "del b['a']\n",
        "print(b)\n",
        "print(a)"
      ],
      "execution_count": null,
      "outputs": []
    },
    {
      "cell_type": "markdown",
      "metadata": {
        "id": "Rec_k-S7Qp_z"
      },
      "source": [
        "깊은 복사(deep copy)"
      ]
    },
    {
      "cell_type": "code",
      "metadata": {
        "colab": {
          "base_uri": "https://localhost:8080/"
        },
        "id": "RBSJqhlLQqwL",
        "outputId": "01748aa4-28b0-4500-ddec-ae67025c3a0d"
      },
      "source": [
        "import copy\n",
        "list_var = [[1,2],[3,4]]\n",
        "list_var_deepcopy = copy.deepcopy(list_var)\n",
        "list_var_copy = list_var.copy()\n",
        "\n",
        "list_var[1].append(5)\n",
        "\n",
        "print(list_var)  # 원래 변수\n",
        "\n",
        "print(list_var_deepcopy)  # deepcopy : append와 같은 메소드를 써도 값이 변경되지 않음\n",
        "\n",
        "print(list_var_copy)  # copy : 원본이 변경되었으므로 함께 변경됨"
      ],
      "execution_count": 14,
      "outputs": [
        {
          "output_type": "stream",
          "name": "stdout",
          "text": [
            "[[1, 2], [3, 4, 5]]\n",
            "[[1, 2], [3, 4]]\n",
            "[[1, 2], [3, 4, 5]]\n"
          ]
        }
      ]
    },
    {
      "cell_type": "markdown",
      "metadata": {
        "id": "Cg_5WcE7QvD6"
      },
      "source": [
        "# 반복문과 조건문"
      ]
    },
    {
      "cell_type": "code",
      "metadata": {
        "colab": {
          "base_uri": "https://localhost:8080/"
        },
        "id": "0qU4jRONQwKq",
        "outputId": "bd3eb490-62c5-459b-dcaa-ebc015c1d0d3"
      },
      "source": [
        "# case 1\n",
        "data = [90, 45, 32, 44]\n",
        "for i in range(len(data)):\n",
        "   print(data[i]) # 90, 45, 32, 44"
      ],
      "execution_count": 15,
      "outputs": [
        {
          "output_type": "stream",
          "name": "stdout",
          "text": [
            "90\n",
            "45\n",
            "32\n",
            "44\n"
          ]
        }
      ]
    },
    {
      "cell_type": "code",
      "metadata": {
        "colab": {
          "base_uri": "https://localhost:8080/"
        },
        "id": "9OKejpvhQxv2",
        "outputId": "e6def48d-c750-43e3-92a1-bc858a351803"
      },
      "source": [
        "# case 2\n",
        "mock_data = {\n",
        "  \"id\": 1,\n",
        "  \"first_name\": \"states\",\n",
        "  \"last_name\": \"code\",\n",
        "  \"email\": \"code@states.com\",\n",
        "  \"gender\": \"Female\",\n",
        "  \"ip_address\": \"123.123.123.23\"\n",
        "}\n",
        "\n",
        "for x in mock_data:\n",
        "    print(x) # id, first_name, last_name, email, gender, ip_address"
      ],
      "execution_count": 16,
      "outputs": [
        {
          "output_type": "stream",
          "name": "stdout",
          "text": [
            "id\n",
            "first_name\n",
            "last_name\n",
            "email\n",
            "gender\n",
            "ip_address\n"
          ]
        }
      ]
    },
    {
      "cell_type": "code",
      "metadata": {
        "colab": {
          "base_uri": "https://localhost:8080/"
        },
        "id": "XFA_wiHlQy6i",
        "outputId": "fac30677-4051-40f7-d8e6-1322b7136484"
      },
      "source": [
        "# case 3\n",
        "mock_data = {\n",
        "  \"id\": 1,\n",
        "  \"first_name\": \"states\",\n",
        "  \"last_name\": \"code\",\n",
        "  \"email\": \"code@states.com\",\n",
        "  \"gender\": \"Female\",\n",
        "  \"ip_address\": \"123.123.123.23\"\n",
        "}\n",
        "\n",
        "for x in mock_data.keys():\n",
        "    print(x)"
      ],
      "execution_count": 17,
      "outputs": [
        {
          "output_type": "stream",
          "name": "stdout",
          "text": [
            "id\n",
            "first_name\n",
            "last_name\n",
            "email\n",
            "gender\n",
            "ip_address\n"
          ]
        }
      ]
    },
    {
      "cell_type": "code",
      "metadata": {
        "colab": {
          "base_uri": "https://localhost:8080/"
        },
        "id": "vSKxaenvQz_2",
        "outputId": "64de960c-1e13-4463-c7fb-6df94c9aba8a"
      },
      "source": [
        "# case 4\n",
        "mock_data = {\n",
        "  \"id\": 1,\n",
        "  \"first_name\": \"states\",\n",
        "  \"last_name\": \"code\",\n",
        "  \"email\": \"code@states.com\",\n",
        "  \"gender\": \"Female\",\n",
        "  \"ip_address\": \"123.123.123.23\"\n",
        "}\n",
        "\n",
        "for x in mock_data.values():\n",
        "    print(x)"
      ],
      "execution_count": 19,
      "outputs": [
        {
          "output_type": "stream",
          "name": "stdout",
          "text": [
            "1\n",
            "states\n",
            "code\n",
            "code@states.com\n",
            "Female\n",
            "123.123.123.23\n"
          ]
        }
      ]
    },
    {
      "cell_type": "code",
      "metadata": {
        "colab": {
          "base_uri": "https://localhost:8080/"
        },
        "id": "EDmHhVtUQ3yX",
        "outputId": "5a68e8b8-6c61-4926-e8c5-1fc69359af77"
      },
      "source": [
        "# 일반적인 반복문 활용\n",
        "a = [1,2,3,4,5]\n",
        "b = [10,20,30,40,50]\n",
        "for i in range(len(a)):\n",
        "   print(a[i],b[i])"
      ],
      "execution_count": 20,
      "outputs": [
        {
          "output_type": "stream",
          "name": "stdout",
          "text": [
            "1 10\n",
            "2 20\n",
            "3 30\n",
            "4 40\n",
            "5 50\n"
          ]
        }
      ]
    },
    {
      "cell_type": "code",
      "metadata": {
        "colab": {
          "base_uri": "https://localhost:8080/"
        },
        "id": "aFJPo_nHQ6gh",
        "outputId": "d8f7f261-67f2-495e-fceb-0498b9944316"
      },
      "source": [
        "# zip 함수 활용\n",
        "a = [1,2,3,4,5]\n",
        "b = [10,20,30,40,50]\n",
        "c = zip(a,b)\n",
        "print(list(c))"
      ],
      "execution_count": 21,
      "outputs": [
        {
          "output_type": "stream",
          "name": "stdout",
          "text": [
            "[(1, 10), (2, 20), (3, 30), (4, 40), (5, 50)]\n"
          ]
        }
      ]
    },
    {
      "cell_type": "code",
      "metadata": {
        "colab": {
          "base_uri": "https://localhost:8080/"
        },
        "id": "kDyXIL0vQ8T6",
        "outputId": "d478b3af-5908-4057-a09a-4ef91908283c"
      },
      "source": [
        "# 반복문과 zip 활용\n",
        "a = [1,2,3,4,5]\n",
        "b = [10,20,30,40,50]\n",
        "c = [100,200,300,400,500]\n",
        "for x,y,z in zip(a,b,c):\n",
        "   print(x,y,z)"
      ],
      "execution_count": 22,
      "outputs": [
        {
          "output_type": "stream",
          "name": "stdout",
          "text": [
            "1 10 100\n",
            "2 20 200\n",
            "3 30 300\n",
            "4 40 400\n",
            "5 50 500\n"
          ]
        }
      ]
    },
    {
      "cell_type": "code",
      "metadata": {
        "colab": {
          "base_uri": "https://localhost:8080/"
        },
        "id": "AHpgKpG2Q8o7",
        "outputId": "2089c297-88ae-4a36-9ad2-7c5e8106bd4a"
      },
      "source": [
        "# break\n",
        "IntCollection=[0,1,2,3,4,5,6,7]\n",
        "for x in IntCollection:\n",
        "    if(x==3):\n",
        "        break\n",
        "    else:\n",
        "        print(x)"
      ],
      "execution_count": 23,
      "outputs": [
        {
          "output_type": "stream",
          "name": "stdout",
          "text": [
            "0\n",
            "1\n",
            "2\n"
          ]
        }
      ]
    },
    {
      "cell_type": "code",
      "metadata": {
        "colab": {
          "base_uri": "https://localhost:8080/"
        },
        "id": "ddqSeW8AQ89y",
        "outputId": "949ab2d7-9ae1-4758-bfe5-9f6ca6bce364"
      },
      "source": [
        "# continue\n",
        "IntCollection=[0,1,2,3,4,5,6,7]\n",
        "for x in IntCollection:\n",
        "    if(x==3):\n",
        "        continue\n",
        "    else:\n",
        "        print(x)"
      ],
      "execution_count": 24,
      "outputs": [
        {
          "output_type": "stream",
          "name": "stdout",
          "text": [
            "0\n",
            "1\n",
            "2\n",
            "4\n",
            "5\n",
            "6\n",
            "7\n"
          ]
        }
      ]
    },
    {
      "cell_type": "code",
      "metadata": {
        "colab": {
          "base_uri": "https://localhost:8080/"
        },
        "id": "Lolo1RC_RIVN",
        "outputId": "1aaaf6ea-bace-434e-fb02-262bb4bf4408"
      },
      "source": [
        "\n",
        "# 반복문의 다양한 활용\n",
        "list_ = [1,2,3,4,5]\n",
        "\n",
        "def foo(list_):\n",
        "  print(list_)\n",
        "\n",
        "print('foo(list_[i])')\n",
        "for i in range(len(list_)):\n",
        "    foo(list_[i])\n",
        "\n",
        "print('foo(element)')\n",
        "for element in list_:\n",
        "    foo(element)"
      ],
      "execution_count": 25,
      "outputs": [
        {
          "output_type": "stream",
          "name": "stdout",
          "text": [
            "foo(list_[i])\n",
            "1\n",
            "2\n",
            "3\n",
            "4\n",
            "5\n",
            "foo(element)\n",
            "1\n",
            "2\n",
            "3\n",
            "4\n",
            "5\n"
          ]
        }
      ]
    },
    {
      "cell_type": "markdown",
      "metadata": {
        "id": "SIpS-VGFW00e"
      },
      "source": [
        "# 컬렉션 자료형의 내장메소드"
      ]
    },
    {
      "cell_type": "markdown",
      "metadata": {
        "id": "ze6LbVsZaCkF"
      },
      "source": [
        "## append(), extend(), insert()"
      ]
    },
    {
      "cell_type": "code",
      "metadata": {
        "colab": {
          "base_uri": "https://localhost:8080/"
        },
        "id": "Fyv7-ut6jFzb",
        "outputId": "2d3187bf-979d-4ff4-f8cd-d325ad9a0e22"
      },
      "source": [
        "li = [11,2,34]\n",
        "\n",
        "li.append(3)\n",
        "print(li)\n",
        "print(len(li))"
      ],
      "execution_count": 28,
      "outputs": [
        {
          "output_type": "stream",
          "name": "stdout",
          "text": [
            "[11, 2, 34, 3]\n",
            "4\n"
          ]
        }
      ]
    },
    {
      "cell_type": "code",
      "metadata": {
        "colab": {
          "base_uri": "https://localhost:8080/"
        },
        "id": "NUcRe85SjOhK",
        "outputId": "c43c34d7-7a54-47f7-fc1d-eadc964e9f53"
      },
      "source": [
        "li = [11,2,34]\n",
        "\n",
        "li.insert(0,2)\n",
        "print(li)\n",
        "\n",
        "li = [11,2,34]\n",
        "\n",
        "li.insert(len(li),3)\n",
        "print(li)"
      ],
      "execution_count": 27,
      "outputs": [
        {
          "output_type": "stream",
          "name": "stdout",
          "text": [
            "[2, 11, 2, 34]\n",
            "[11, 2, 34, 3]\n"
          ]
        }
      ]
    },
    {
      "cell_type": "code",
      "metadata": {
        "colab": {
          "base_uri": "https://localhost:8080/"
        },
        "id": "pJgdTwFBW3hR",
        "outputId": "592fdc98-9253-4d30-ecea-e1b7efd058ea"
      },
      "source": [
        "my_list=[]\n",
        "for i in range(1000, 2200):\n",
        "    if (i%7==0) and (i%5!=0):\n",
        "        my_list.append(str(i))\n",
        "\n",
        "print(','.join(my_list))"
      ],
      "execution_count": 28,
      "outputs": [
        {
          "output_type": "stream",
          "name": "stdout",
          "text": [
            "1001,1008,1022,1029,1036,1043,1057,1064,1071,1078,1092,1099,1106,1113,1127,1134,1141,1148,1162,1169,1176,1183,1197,1204,1211,1218,1232,1239,1246,1253,1267,1274,1281,1288,1302,1309,1316,1323,1337,1344,1351,1358,1372,1379,1386,1393,1407,1414,1421,1428,1442,1449,1456,1463,1477,1484,1491,1498,1512,1519,1526,1533,1547,1554,1561,1568,1582,1589,1596,1603,1617,1624,1631,1638,1652,1659,1666,1673,1687,1694,1701,1708,1722,1729,1736,1743,1757,1764,1771,1778,1792,1799,1806,1813,1827,1834,1841,1848,1862,1869,1876,1883,1897,1904,1911,1918,1932,1939,1946,1953,1967,1974,1981,1988,2002,2009,2016,2023,2037,2044,2051,2058,2072,2079,2086,2093,2107,2114,2121,2128,2142,2149,2156,2163,2177,2184,2191,2198\n"
          ]
        }
      ]
    },
    {
      "cell_type": "code",
      "metadata": {
        "colab": {
          "base_uri": "https://localhost:8080/"
        },
        "id": "H1PPucpdW5h-",
        "outputId": "9563448f-1fb6-4719-c89c-db4f7771a5e8"
      },
      "source": [
        "my_list=[]\n",
        "for i in range(1000, 2200):\n",
        "    if (i%7==0) and (i%5!=0):\n",
        "        my_list.insert(len(my_list), str(i))\n",
        "\n",
        "print(','.join(my_list))"
      ],
      "execution_count": 27,
      "outputs": [
        {
          "output_type": "stream",
          "name": "stdout",
          "text": [
            "1001,1008,1022,1029,1036,1043,1057,1064,1071,1078,1092,1099,1106,1113,1127,1134,1141,1148,1162,1169,1176,1183,1197,1204,1211,1218,1232,1239,1246,1253,1267,1274,1281,1288,1302,1309,1316,1323,1337,1344,1351,1358,1372,1379,1386,1393,1407,1414,1421,1428,1442,1449,1456,1463,1477,1484,1491,1498,1512,1519,1526,1533,1547,1554,1561,1568,1582,1589,1596,1603,1617,1624,1631,1638,1652,1659,1666,1673,1687,1694,1701,1708,1722,1729,1736,1743,1757,1764,1771,1778,1792,1799,1806,1813,1827,1834,1841,1848,1862,1869,1876,1883,1897,1904,1911,1918,1932,1939,1946,1953,1967,1974,1981,1988,2002,2009,2016,2023,2037,2044,2051,2058,2072,2079,2086,2093,2107,2114,2121,2128,2142,2149,2156,2163,2177,2184,2191,2198\n"
          ]
        }
      ]
    },
    {
      "cell_type": "code",
      "metadata": {
        "colab": {
          "base_uri": "https://localhost:8080/"
        },
        "id": "KWAyha8KW6y1",
        "outputId": "c5150b84-02eb-478e-850b-a08512137647"
      },
      "source": [
        "words = []\n",
        "while True:\n",
        "    char = input()\n",
        "    if char:\n",
        "        words.append(char.upper())\n",
        "    else:\n",
        "        # while 문을 통해 char = input() 의 입력을 계속해서 받으므로,\n",
        "        # 입력할 데이터가 끝났으면 아무것도 입력하지 않고 엔터를 입력한다.\n",
        "        break;\n",
        "\n",
        "for word in words:\n",
        "    print(word)"
      ],
      "execution_count": 29,
      "outputs": [
        {
          "output_type": "stream",
          "name": "stdout",
          "text": [
            "hi\n",
            "who\n",
            "are\n",
            "yiu\n",
            "\n",
            "HI\n",
            "WHO\n",
            "ARE\n",
            "YIU\n"
          ]
        }
      ]
    },
    {
      "cell_type": "code",
      "metadata": {
        "colab": {
          "base_uri": "https://localhost:8080/"
        },
        "id": "7KJMhb8eW79T",
        "outputId": "db41763e-de0b-4738-a9c9-4c3a5b584188"
      },
      "source": [
        "values = []\n",
        "for i in range(100, 300):\n",
        "    char = str(i)\n",
        "  \n",
        "    if (int(char[0])%2==0) and (int(char[2])%2==0):\n",
        "        values.append(char)\n",
        "\n",
        "print(\",\".join(values))"
      ],
      "execution_count": 33,
      "outputs": [
        {
          "output_type": "stream",
          "name": "stdout",
          "text": [
            "200,202,204,206,208,210,212,214,216,218,220,222,224,226,228,230,232,234,236,238,240,242,244,246,248,250,252,254,256,258,260,262,264,266,268,270,272,274,276,278,280,282,284,286,288,290,292,294,296,298\n"
          ]
        }
      ]
    },
    {
      "cell_type": "code",
      "metadata": {
        "colab": {
          "base_uri": "https://localhost:8080/"
        },
        "id": "3USm3w_4W9CF",
        "outputId": "4147b631-86ab-4de5-e047-37b2f9dbc97a"
      },
      "source": [
        "list_1 = ['bread', 'meat']\n",
        "list_2 = ['Lettuce',2 ,5]\n",
        "list_1.extend(list_2)\n",
        "print('list1: {}, list2: {}'.format(list_1, list_2))"
      ],
      "execution_count": 34,
      "outputs": [
        {
          "output_type": "stream",
          "name": "stdout",
          "text": [
            "list1: ['bread', 'meat', 'Lettuce', 2, 5], list2: ['Lettuce', 2, 5]\n"
          ]
        }
      ]
    },
    {
      "cell_type": "markdown",
      "metadata": {
        "id": "5sIXCpxoXBmE"
      },
      "source": [
        "## del, remove, pop"
      ]
    },
    {
      "cell_type": "code",
      "metadata": {
        "colab": {
          "base_uri": "https://localhost:8080/"
        },
        "id": "oE8Zyy2blGl2",
        "outputId": "0dbe929b-d8a9-4115-e70d-bc054f5d2762"
      },
      "source": [
        "list1 = [11, 12, 43, 4, 6]\n",
        "for i in list1.copy():\n",
        "    if not i % 2:\n",
        "        print(i)\n",
        "\n",
        "print('\\n')\n",
        "\n",
        "list1 = [11, 12, 43, 4, 6]\n",
        "for i in list1.copy():\n",
        "    if i % 2:\n",
        "        print(i)\n"
      ],
      "execution_count": 37,
      "outputs": [
        {
          "output_type": "stream",
          "name": "stdout",
          "text": [
            "12\n",
            "4\n",
            "6\n",
            "\n",
            "\n",
            "11\n",
            "43\n"
          ]
        }
      ]
    },
    {
      "cell_type": "code",
      "metadata": {
        "colab": {
          "base_uri": "https://localhost:8080/"
        },
        "id": "4Rv-c766W-co",
        "outputId": "e05afcd0-7b02-4021-bbbb-a11173e6786c"
      },
      "source": [
        "# 이해 완료 ㅠㅠ\n",
        "list1 = [11, 12, 43, 4, 6]   \n",
        "for i in list1.copy():\n",
        "    if not i % 2:  # 0 과 '' 은 False로 취급됨을 확인\n",
        "        list1.remove(i)\n",
        "print(list1)"
      ],
      "execution_count": 15,
      "outputs": [
        {
          "output_type": "stream",
          "name": "stdout",
          "text": [
            "[11, 43]\n"
          ]
        }
      ]
    },
    {
      "cell_type": "code",
      "metadata": {
        "colab": {
          "base_uri": "https://localhost:8080/"
        },
        "id": "EF4SCPYoXCd_",
        "outputId": "af3f2071-bc09-4567-d7ab-ba1b2cc7c22e"
      },
      "source": [
        "my_list = [1, 2, 3, 4, 5]\n",
        "my_list[0] = 99\n",
        "print(my_list)\n",
        "\n",
        "del my_list[0]\n",
        "print(my_list)"
      ],
      "execution_count": 46,
      "outputs": [
        {
          "output_type": "stream",
          "name": "stdout",
          "text": [
            "[99, 2, 3, 4, 5]\n",
            "[2, 3, 4, 5]\n"
          ]
        }
      ]
    },
    {
      "cell_type": "code",
      "metadata": {
        "colab": {
          "base_uri": "https://localhost:8080/"
        },
        "id": "W3QpeEgTXD5Z",
        "outputId": "66899160-c5d2-474f-ceeb-0cd76457ab86"
      },
      "source": [
        "my_list = [1, 2, 3, 4, 5]\n",
        "my_list[0] = 99\n",
        "print(my_list)\n",
        "\n",
        "my_list.pop()\n",
        "print(my_list)"
      ],
      "execution_count": 47,
      "outputs": [
        {
          "output_type": "stream",
          "name": "stdout",
          "text": [
            "[99, 2, 3, 4, 5]\n",
            "[99, 2, 3, 4]\n"
          ]
        }
      ]
    },
    {
      "cell_type": "markdown",
      "metadata": {
        "id": "OZh-ERq_XFa-"
      },
      "source": [
        "## count()와 index()"
      ]
    },
    {
      "cell_type": "code",
      "metadata": {
        "colab": {
          "base_uri": "https://localhost:8080/"
        },
        "id": "4gfYCGHFXF0E",
        "outputId": "976f006b-63b6-47fe-f339-ddb03b142dbc"
      },
      "source": [
        "my_list = ['xyz', 'XYZ', 'abc', 'ABC']\n",
        "print(\"Index for xyz : \",  my_list.index( 'xyz' ), my_list)\n",
        "print(\"Index for ABC : \",  my_list.index( 'ABC' ), my_list)"
      ],
      "execution_count": 6,
      "outputs": [
        {
          "output_type": "stream",
          "name": "stdout",
          "text": [
            "Index for xyz :  0 ['xyz', 'XYZ', 'abc', 'ABC']\n",
            "Index for ABC :  3 ['xyz', 'XYZ', 'abc', 'ABC']\n"
          ]
        }
      ]
    },
    {
      "cell_type": "code",
      "metadata": {
        "colab": {
          "base_uri": "https://localhost:8080/"
        },
        "id": "VyYY4jNtXG_R",
        "outputId": "8ae17979-632a-4675-84fe-498f77d01b0e"
      },
      "source": [
        "my_list = ['xyz', 'XYZ' 'abc', 'ABC']\n",
        "print(\"Count for xyz : \",  my_list.count( 'xyz' ))\n",
        "print(\"Count for ABC : \",  my_list.count( 'ABC' ))"
      ],
      "execution_count": 3,
      "outputs": [
        {
          "output_type": "stream",
          "name": "stdout",
          "text": [
            "Count for xyz :  1\n",
            "Count for ABC :  1\n"
          ]
        }
      ]
    },
    {
      "cell_type": "code",
      "metadata": {
        "colab": {
          "base_uri": "https://localhost:8080/"
        },
        "id": "vng6HL2qXJNU",
        "outputId": "24dcf49d-c5a1-4006-e0c4-effb7c8f1332"
      },
      "source": [
        "###########################\n",
        "import math   # 수학과 관련된 함수들을 모아놓은 모듈\n",
        "def bin_search(li, element):\n",
        "    bottom = 0\n",
        "    top = len(li)-1  \n",
        "    index = -1\n",
        "    while top >= bottom and index == -1:\n",
        "        mid = int(math.floor((top+bottom) / 2.0)) # floor 함수는 실수를 입력하면내림하여 정수를 반환하는 함수\n",
        "        if li[mid] == element:\n",
        "            index = mid\n",
        "        elif li[mid] > element:\n",
        "            top = mid-1\n",
        "        else:\n",
        "            bottom = mid+1\n",
        "\n",
        "    return index\n",
        "\n",
        "li=[2,5,7,9,11,17,222]\n",
        "print(bin_search(li,11))\n",
        "print(bin_search(li,102))"
      ],
      "execution_count": 8,
      "outputs": [
        {
          "output_type": "stream",
          "name": "stdout",
          "text": [
            "4\n",
            "-1\n"
          ]
        }
      ]
    },
    {
      "cell_type": "code",
      "metadata": {
        "colab": {
          "base_uri": "https://localhost:8080/"
        },
        "id": "ifAqYfpHXKiG",
        "outputId": "e3e54ec8-ec82-436b-ecd3-32019ae19213"
      },
      "source": [
        "li = [12,24,35,70,88,120]\n",
        "for (i,x) in enumerate(li):\n",
        "   if i not in (0,3,5):\n",
        "     li = x\n",
        "     print(li)"
      ],
      "execution_count": 10,
      "outputs": [
        {
          "output_type": "stream",
          "name": "stdout",
          "text": [
            "24\n",
            "35\n",
            "88\n"
          ]
        }
      ]
    },
    {
      "cell_type": "code",
      "metadata": {
        "colab": {
          "base_uri": "https://localhost:8080/"
        },
        "id": "iWxiMCOOXL0g",
        "outputId": "6812a396-569e-4172-da49-8dde90b9d11f"
      },
      "source": [
        "def list_update(data):\n",
        "    new_li=[]\n",
        "    new_set = set()\n",
        "    for item in data:\n",
        "        if item not in new_set:\n",
        "            new_set.add(item)\n",
        "            new_li.append(item)\n",
        "\n",
        "    return new_li\n",
        "\n",
        "list_test=[120,120,10,20,30,20]\n",
        "print(list_update(list_test))"
      ],
      "execution_count": 11,
      "outputs": [
        {
          "output_type": "stream",
          "name": "stdout",
          "text": [
            "[120, 10, 20, 30]\n"
          ]
        }
      ]
    },
    {
      "cell_type": "code",
      "metadata": {
        "colab": {
          "base_uri": "https://localhost:8080/"
        },
        "id": "xeBJQumoXNDF",
        "outputId": "3e8a843d-1f58-4151-e996-f25771ffc317"
      },
      "source": [
        "from operator import itemgetter\n",
        "\n",
        "l = []\n",
        "while True:\n",
        "    s = input()\n",
        "    if not s:\n",
        "        break\n",
        "    l.append(tuple(s.split(\",\")))\n",
        "\n",
        "print(sorted(l, key=itemgetter(0,1,2)))  ## (이름, 성적, 나이) 이름 정렬 -> 성적 정렬  -> 나이 정렬\n",
        "\n",
        "# 입력 테스트 시, ('dave', 'B', 10) 처럼 아이템인덱스 채워주기"
      ],
      "execution_count": 20,
      "outputs": [
        {
          "output_type": "stream",
          "name": "stdout",
          "text": [
            "('eun' ,'a', '25')\n",
            "('yeon', 'c', '23)\n",
            "('part', 'b', '54')\n",
            "\n",
            "[(\"('eun' \", \"'a'\", \" '25')\"), (\"('part'\", \" 'b'\", \" '54')\"), (\"('yeon'\", \" 'c'\", \" '23)\")]\n"
          ]
        }
      ]
    },
    {
      "cell_type": "code",
      "metadata": {
        "colab": {
          "base_uri": "https://localhost:8080/"
        },
        "id": "I4L3YdLrgYLg",
        "outputId": "4435db46-2bde-450c-bfe5-85fd8399ffbe"
      },
      "source": [
        "##  operator.itemgetter 알기\n",
        "from operator import itemgetter\n",
        "\n",
        "students = [\n",
        "    (\"jane\", 22, 'A'),\n",
        "    (\"dave\", 32, 'B'),\n",
        "    (\"sally\", 17, 'B'),\n",
        "]\n",
        "\n",
        "result = sorted(students, key=itemgetter(1,0,2)) # 나이 순대로 \n",
        "print(result)\n",
        "print(students)"
      ],
      "execution_count": 29,
      "outputs": [
        {
          "output_type": "stream",
          "name": "stdout",
          "text": [
            "[('sally', 17, 'B'), ('jane', 22, 'A'), ('dave', 32, 'B')]\n",
            "[('jane', 22, 'A'), ('dave', 32, 'B'), ('sally', 17, 'B')]\n"
          ]
        }
      ]
    },
    {
      "cell_type": "code",
      "metadata": {
        "colab": {
          "base_uri": "https://localhost:8080/"
        },
        "id": "rj2Dcjmfj3RW",
        "outputId": "0ee461f6-67a7-4d49-cc1b-00628ff1b6e7"
      },
      "source": [
        "## sort vs sorted\n",
        "\n",
        "# 1. list.sort()\n",
        "\n",
        "a1 = [6, 3, 9]\n",
        "print('a1:', a1)\n",
        "a2 = a1.sort() # 원본을 정렬하고 수정합니다(in-place)\n",
        "print('-----정렬 후-----')\n",
        "print('a1:', a1)\n",
        "print('a2:', a2)\n",
        "\n",
        "# 2. sorted(list)\n",
        "print('\\n')\n",
        "b1 = [6, 3, 9]\n",
        "print('b1:', b1)\n",
        "b2 = sorted(b1) # 원본은 유지하고 정렬한 새 리스트를 만듭니다\n",
        "print('-----정렬 후-----')\n",
        "print('b1:', b1)\n",
        "print('b2:', b2)"
      ],
      "execution_count": 34,
      "outputs": [
        {
          "output_type": "stream",
          "name": "stdout",
          "text": [
            "a1: [6, 3, 9]\n",
            "-----정렬 후-----\n",
            "a1: [3, 6, 9]\n",
            "a2: None\n",
            "\n",
            "\n",
            "b1: [6, 3, 9]\n",
            "-----정렬 후-----\n",
            "b1: [6, 3, 9]\n",
            "b2: [3, 6, 9]\n"
          ]
        }
      ]
    },
    {
      "cell_type": "code",
      "metadata": {
        "colab": {
          "base_uri": "https://localhost:8080/"
        },
        "id": "C2aAQj3TXOaf",
        "outputId": "ff718968-4d1c-4067-8037-4e416f01570e"
      },
      "source": [
        "#########\n",
        "dic = {}\n",
        "s=input()\n",
        "for s in s:\n",
        "    dic[s] = dic.get(s,0)+1\n",
        "print('\\n'.join(['%s,%s' % (k, v) for k, v in dic.items()]))"
      ],
      "execution_count": 13,
      "outputs": [
        {
          "output_type": "stream",
          "name": "stdout",
          "text": [
            "hi\n",
            "h,1\n",
            "i,1\n"
          ]
        }
      ]
    },
    {
      "cell_type": "markdown",
      "metadata": {
        "id": "Zyd6qmK4lnDm"
      },
      "source": [
        "# 람다"
      ]
    },
    {
      "cell_type": "code",
      "metadata": {
        "colab": {
          "base_uri": "https://localhost:8080/"
        },
        "id": "1Yas98v4lpgb",
        "outputId": "b7eac212-fb86-4572-954e-5e6f66279ada"
      },
      "source": [
        "# 함수정의\n",
        "define_word = (lambda word1,define :  word1 * define)\n",
        "\n",
        "# 함수호출\n",
        "result = define_word('call_result_',5)\n",
        "\n",
        "# 결과출력\n",
        "print(result)"
      ],
      "execution_count": 38,
      "outputs": [
        {
          "output_type": "stream",
          "name": "stdout",
          "text": [
            "call_result_call_result_call_result_call_result_call_result_\n"
          ]
        }
      ]
    },
    {
      "cell_type": "markdown",
      "metadata": {
        "id": "m2SfaUUam5Wm"
      },
      "source": [
        "map: 반복가능한 iterable객체를 받아서, 각 요소에 함수를 적용해주는 함수"
      ]
    },
    {
      "cell_type": "code",
      "metadata": {
        "colab": {
          "base_uri": "https://localhost:8080/"
        },
        "id": "g7TMtEmql0SB",
        "outputId": "5aa736ce-07c9-4739-f75f-9d680a3e9ff9"
      },
      "source": [
        "# 리스트 생성\n",
        "spelling = [\"test1\", \"test2\", \"test4 test5\", \"test3\"]\n",
        "\n",
        "# 람다함수적용\n",
        "shout_spells = map(lambda item: item + ('!!!'), spelling)\n",
        "\n",
        "# 리스트형태로 변환\n",
        "shout_spells_list = list(shout_spells)\n",
        "\n",
        "# 결과출력\n",
        "print(shout_spells_list)"
      ],
      "execution_count": 39,
      "outputs": [
        {
          "output_type": "stream",
          "name": "stdout",
          "text": [
            "['test1!!!', 'test2!!!', 'test4 test5!!!', 'test3!!!']\n"
          ]
        }
      ]
    },
    {
      "cell_type": "markdown",
      "metadata": {
        "id": "lRk1Pg4gnFhg"
      },
      "source": [
        "filter:  특정 조건으로 걸러서 걸러진 요소들로 iterator객체를 만들어서 리턴"
      ]
    },
    {
      "cell_type": "code",
      "metadata": {
        "colab": {
          "base_uri": "https://localhost:8080/"
        },
        "id": "iRA7q5BnmF31",
        "outputId": "7fb78b4b-94e2-4155-b408-bb86ec848c62"
      },
      "source": [
        "# 리스트 생성\n",
        "fellowship = ['frodo', 'samwise', 'merry', 'pippin', 'aragorn', 'boromir', 'legolas', 'gimli', 'gandalf']\n",
        "\n",
        "# 람다함수적용\n",
        "result = filter(lambda member: len(member) > 6, fellowship)\n",
        "\n",
        "# 리스트형태로 변환\n",
        "result_list = list(result)\n",
        "\n",
        "# 결과출력\n",
        "print(result_list)"
      ],
      "execution_count": 40,
      "outputs": [
        {
          "output_type": "stream",
          "name": "stdout",
          "text": [
            "['samwise', 'aragorn', 'boromir', 'legolas', 'gandalf']\n"
          ]
        }
      ]
    }
  ]
}