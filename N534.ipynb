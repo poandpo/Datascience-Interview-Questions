{
  "nbformat": 4,
  "nbformat_minor": 0,
  "metadata": {
    "colab": {
      "name": "N534.ipynb",
      "provenance": [],
      "authorship_tag": "ABX9TyPTs38Dxcc2pqUDzn3Waak6",
      "include_colab_link": true
    },
    "kernelspec": {
      "name": "python3",
      "display_name": "Python 3"
    },
    "language_info": {
      "name": "python"
    }
  },
  "cells": [
    {
      "cell_type": "markdown",
      "metadata": {
        "id": "view-in-github",
        "colab_type": "text"
      },
      "source": [
        "<a href=\"https://colab.research.google.com/github/poandpo/Datascience-Interview-Questions/blob/master/N534.ipynb\" target=\"_parent\"><img src=\"https://colab.research.google.com/assets/colab-badge.svg\" alt=\"Open In Colab\"/></a>"
      ]
    },
    {
      "cell_type": "code",
      "metadata": {
        "colab": {
          "base_uri": "https://localhost:8080/"
        },
        "id": "ZX-fI9hMKBst",
        "outputId": "de814a7a-21ab-4052-b6f8-580c5f4ae50a"
      },
      "source": [
        "# 기본적인 반복문과 조건문을 활용한 덧셈\n",
        "\n",
        "def dp_sum():\n",
        "  sum = 0\n",
        "  array = [1,2,3,4,5,6,7,8,9,10]\n",
        "\n",
        "  for i in array:\n",
        "    if (array[i-1] + array[10-i]) == 11:     \n",
        "      sum = (array[i-1] + array[10-i]) * len(array)/2   \n",
        "  \n",
        "  return round(sum)   # 소수점 처리를 위해 round 내장함수 사용\n",
        "\n",
        "dp_sum()"
      ],
      "execution_count": 1,
      "outputs": [
        {
          "output_type": "execute_result",
          "data": {
            "text/plain": [
              "55"
            ]
          },
          "metadata": {},
          "execution_count": 1
        }
      ]
    },
    {
      "cell_type": "code",
      "metadata": {
        "colab": {
          "base_uri": "https://localhost:8080/"
        },
        "id": "2cVztSDxKD51",
        "outputId": "515e0cf9-ff85-4b34-88c5-892aec24b7a9"
      },
      "source": [
        "# DP를 활용한 피보나치 수열\n",
        "\n",
        "# 1) 재귀를 활용하여 주어진 문제해결을 위한 함수 먼저 생성\n",
        "def dp_fib_cal(num, dp_memo):\n",
        "      \n",
        "    if num < 3: \n",
        "      return 1\n",
        "    \n",
        "    if num in dp_memo:\n",
        "        return dp_memo[num]\n",
        "    \n",
        "    dp_memo[num] =  dp_fib_cal(num - 1, dp_memo) + dp_fib_cal(num - 2, dp_memo) # 재귀\n",
        "    # 계산된 값들을 dp_memo[num]에 저장해놓는다.\n",
        "    \n",
        "    return dp_memo[num]\n",
        "\n",
        "# 2) 메모이제이션 개념을 위한 함수 생성\n",
        "def dp(num):\n",
        "    \n",
        "    dp_memo = {}    # 메모저장을 위한 변수생성\n",
        "\n",
        "    return dp_fib_cal(num, dp_memo)\n",
        "\n",
        "# 3) 함수를 호출하면서 문제를 발생시키는 곳이다.\n",
        "print(dp(3))"
      ],
      "execution_count": 21,
      "outputs": [
        {
          "output_type": "stream",
          "name": "stdout",
          "text": [
            "2\n"
          ]
        }
      ]
    },
    {
      "cell_type": "code",
      "metadata": {
        "colab": {
          "base_uri": "https://localhost:8080/"
        },
        "id": "8DcyzL-mKFh1",
        "outputId": "580e72c5-d82e-4ee7-8b28-2d8a2760b535"
      },
      "source": [
        "# 메모이제이션을 활용하지만 재귀는 활용하지 않는 DP\n",
        "\n",
        "def fib_not_recur(n):\n",
        "  arr = [j for j in range(n+1)]   # 메모\n",
        "  if n < 2:\n",
        "    return n\n",
        "\n",
        "  for i in range(2, n+1):         # 반복\n",
        "    arr[i] = arr[i-1] + arr[i-2]\n",
        "\n",
        "  return arr[n]\n",
        "\n",
        "print(fib_not_recur(6))"
      ],
      "execution_count": 3,
      "outputs": [
        {
          "output_type": "stream",
          "name": "stdout",
          "text": [
            "8\n"
          ]
        }
      ]
    },
    {
      "cell_type": "code",
      "metadata": {
        "colab": {
          "base_uri": "https://localhost:8080/"
        },
        "id": "zwNHV1wHKHDk",
        "outputId": "c332b188-8d92-4242-debe-d7d7c9958650"
      },
      "source": [
        "# 재귀를 활용하는 DP\n",
        "def fib(n):\n",
        "  if n < 3:\n",
        "    return 1\n",
        "  else:\n",
        "    return fib(n-1)+fib(n-2)  # 재귀(부분문제 재사용)\n",
        "\n",
        "fib(6)\n"
      ],
      "execution_count": 4,
      "outputs": [
        {
          "output_type": "execute_result",
          "data": {
            "text/plain": [
              "8"
            ]
          },
          "metadata": {},
          "execution_count": 4
        }
      ]
    },
    {
      "cell_type": "code",
      "metadata": {
        "id": "OXOtqainKG-J"
      },
      "source": [
        "# 태뷸레이션을 활용하는 DP\n",
        "....\n",
        "  tab = [0, 1]\n",
        "\n",
        "  for ...           # 재귀가 아닌 for반복문을 활용하여 연산이 빠름\n",
        "    tab.append...... # 반복하면서 값을 미리 다 구해놓는다.(tab 리스트에 값을 구해놓음)\n",
        "...."
      ],
      "execution_count": null,
      "outputs": []
    },
    {
      "cell_type": "code",
      "metadata": {
        "colab": {
          "base_uri": "https://localhost:8080/"
        },
        "id": "Y8asHiYpNfy6",
        "outputId": "a8d3ccaa-d17e-4866-bbad-d3b4c0be6bb0"
      },
      "source": [
        "# DP로 구현한 코드\n",
        "\n",
        "calculated = {}\n",
        "\n",
        "def fib(n):\n",
        "  if n == 0: # base case 1\n",
        "    return 0\n",
        "  if n == 1: # base case 2\n",
        "    return 1\n",
        "  elif n in calculated:\n",
        "    print(\"elif calculated :\",calculated) # 함수 안에만 활용되는 calculated\n",
        "    return calculated[n]  # 재귀 전에 DP에서는 결과값을 저장하여 활용한다.\n",
        "  else: # 재귀 단계\n",
        "    calculated[n] = fib(n-1) + fib(n-2)\n",
        "    return calculated[n]\n",
        "\n",
        "#print(\"result calculated :\",calculated) # 함수 밖에 있는 전역변수로 calculated가 할당됨\n",
        "print(fib(20))"
      ],
      "execution_count": 6,
      "outputs": [
        {
          "output_type": "stream",
          "name": "stdout",
          "text": [
            "elif calculated : {2: 1, 3: 2}\n",
            "elif calculated : {2: 1, 3: 2, 4: 3}\n",
            "elif calculated : {2: 1, 3: 2, 4: 3, 5: 5}\n",
            "elif calculated : {2: 1, 3: 2, 4: 3, 5: 5, 6: 8}\n",
            "elif calculated : {2: 1, 3: 2, 4: 3, 5: 5, 6: 8, 7: 13}\n",
            "elif calculated : {2: 1, 3: 2, 4: 3, 5: 5, 6: 8, 7: 13, 8: 21}\n",
            "elif calculated : {2: 1, 3: 2, 4: 3, 5: 5, 6: 8, 7: 13, 8: 21, 9: 34}\n",
            "elif calculated : {2: 1, 3: 2, 4: 3, 5: 5, 6: 8, 7: 13, 8: 21, 9: 34, 10: 55}\n",
            "elif calculated : {2: 1, 3: 2, 4: 3, 5: 5, 6: 8, 7: 13, 8: 21, 9: 34, 10: 55, 11: 89}\n",
            "elif calculated : {2: 1, 3: 2, 4: 3, 5: 5, 6: 8, 7: 13, 8: 21, 9: 34, 10: 55, 11: 89, 12: 144}\n",
            "elif calculated : {2: 1, 3: 2, 4: 3, 5: 5, 6: 8, 7: 13, 8: 21, 9: 34, 10: 55, 11: 89, 12: 144, 13: 233}\n",
            "elif calculated : {2: 1, 3: 2, 4: 3, 5: 5, 6: 8, 7: 13, 8: 21, 9: 34, 10: 55, 11: 89, 12: 144, 13: 233, 14: 377}\n",
            "elif calculated : {2: 1, 3: 2, 4: 3, 5: 5, 6: 8, 7: 13, 8: 21, 9: 34, 10: 55, 11: 89, 12: 144, 13: 233, 14: 377, 15: 610}\n",
            "elif calculated : {2: 1, 3: 2, 4: 3, 5: 5, 6: 8, 7: 13, 8: 21, 9: 34, 10: 55, 11: 89, 12: 144, 13: 233, 14: 377, 15: 610, 16: 987}\n",
            "elif calculated : {2: 1, 3: 2, 4: 3, 5: 5, 6: 8, 7: 13, 8: 21, 9: 34, 10: 55, 11: 89, 12: 144, 13: 233, 14: 377, 15: 610, 16: 987, 17: 1597}\n",
            "elif calculated : {2: 1, 3: 2, 4: 3, 5: 5, 6: 8, 7: 13, 8: 21, 9: 34, 10: 55, 11: 89, 12: 144, 13: 233, 14: 377, 15: 610, 16: 987, 17: 1597, 18: 2584}\n",
            "elif calculated : {2: 1, 3: 2, 4: 3, 5: 5, 6: 8, 7: 13, 8: 21, 9: 34, 10: 55, 11: 89, 12: 144, 13: 233, 14: 377, 15: 610, 16: 987, 17: 1597, 18: 2584, 19: 4181}\n",
            "6765\n"
          ]
        }
      ]
    },
    {
      "cell_type": "code",
      "metadata": {
        "colab": {
          "base_uri": "https://localhost:8080/"
        },
        "id": "S9cEPGbfOLsL",
        "outputId": "56652eee-6d9c-41b2-8aa8-54d28b56a7bb"
      },
      "source": [
        "# 위의 문제에 대해서 메모이제이션 개념을 적용해보자.\n",
        "\n",
        "dp = {} # 딕셔너리로 메모이제이션을 위한 변수선언, 왜 딕셔너리일까?\n",
        "\n",
        "# this function returns the number of \n",
        "# arrangements to form 'n' \n",
        "def solve(memo_num):\n",
        "\n",
        "  # base case\n",
        "  if memo_num < 0:\n",
        "      return 0\n",
        "  if memo_num == 0:\n",
        "      return 1  \n",
        "\n",
        "  # checking if already calculated\n",
        "  elif memo_num in dp:\n",
        "    return dp[memo_num]\n",
        " \n",
        "  # storing the result and returning\n",
        "  else:\n",
        "    \n",
        "    dp[memo_num] = solve(memo_num-2) + solve(memo_num-4) + solve(memo_num-6)\n",
        "    \n",
        "    # 딕셔너리 키와 값 단계별 전체확인\n",
        "    print(\"dp:\",dp,'\\n') \n",
        "\n",
        "    # 딕셔너리의 키와 값 특정단계만 확인\n",
        "    print('[key] memo_num :',memo_num,',','[value] solve() 반환값 :',\n",
        "          solve(memo_num-2) + solve(memo_num-4) + solve(memo_num-6),'\\n')\n",
        "\n",
        "    return dp[memo_num]\n",
        "\n",
        "print(\"문제해결값 : \",solve(6))"
      ],
      "execution_count": 7,
      "outputs": [
        {
          "output_type": "stream",
          "name": "stdout",
          "text": [
            "dp: {2: 1} \n",
            "\n",
            "[key] memo_num : 2 , [value] solve() 반환값 : 1 \n",
            "\n",
            "dp: {2: 1, 4: 2} \n",
            "\n",
            "[key] memo_num : 4 , [value] solve() 반환값 : 2 \n",
            "\n",
            "dp: {2: 1, 4: 2, 6: 4} \n",
            "\n",
            "[key] memo_num : 6 , [value] solve() 반환값 : 4 \n",
            "\n",
            "문제해결값 :  4\n"
          ]
        }
      ]
    },
    {
      "cell_type": "code",
      "metadata": {
        "colab": {
          "base_uri": "https://localhost:8080/"
        },
        "id": "p987O0jaOPVx",
        "outputId": "0d424b46-a533-4ac4-e5c6-3a48ec4c553b"
      },
      "source": [
        "# 딕셔너리 예시\n",
        "dictionary = {} # 키와 값이 없는 비어있는 딕셔너리 생성\n",
        "dictionary = {\"a\": 1, \"b\": 2} # 딕셔너리에 키와 값 할당\n",
        "\n",
        "print(dictionary[\"a\"]) # key(\"a\")에 매핑되는 value(1)에 접근할 때 사용\n",
        "\n",
        "dictionary[\"c\"] = 3 # key(\"c\")에 대한 value(3) 생성\n",
        "print(dictionary[\"c\"]) # 키에 매핑되는 값에 접근"
      ],
      "execution_count": 8,
      "outputs": [
        {
          "output_type": "stream",
          "name": "stdout",
          "text": [
            "1\n",
            "3\n"
          ]
        }
      ]
    },
    {
      "cell_type": "code",
      "metadata": {
        "colab": {
          "base_uri": "https://localhost:8080/"
        },
        "id": "UANo2H3xWJSU",
        "outputId": "40a9baaa-ae07-4948-b1ac-36a021bd0b93"
      },
      "source": [
        "# 잔돈갯수를 구하자.(갖고 있는 돈 : 100원)\n",
        "price = int(input('물건값을 입력하세요.'))\n",
        "\n",
        "change = 100 - price\n",
        "coin_list = [50, 40, 20, 10, 5]   # 받을 수 있는 잔돈의 종류\n",
        "\n",
        "change_count = []   # 잔돈갯수\n",
        "\n",
        "while change != 0:\n",
        "    for coin in coin_list:    # 이 부분을 오해하지 말아야한다.(리스트에 대한 반복문이다.)\n",
        "        change_bool = 0\n",
        "        \n",
        "        change_bool = change_bool + (change // coin)\n",
        "\n",
        "        change_count.append(change_bool)\n",
        "\n",
        "        change = change - (change_bool * coin)\n",
        "\n",
        "        print(coin, change_count)\n",
        "        \n",
        "print('잔돈갯수 :',sum(change_count)) # 잔돈의 갯수를 합한다.(sum 내장함수 활용)"
      ],
      "execution_count": 13,
      "outputs": [
        {
          "output_type": "stream",
          "name": "stdout",
          "text": [
            "물건값을 입력하세요.300\n",
            "50 [-4]\n",
            "40 [-4, 0]\n",
            "20 [-4, 0, 0]\n",
            "10 [-4, 0, 0, 0]\n",
            "5 [-4, 0, 0, 0, 0]\n",
            "잔돈갯수 : -4\n"
          ]
        }
      ]
    }
  ]
}